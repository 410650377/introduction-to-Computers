{
  "nbformat": 4,
  "nbformat_minor": 0,
  "metadata": {
    "colab": {
      "name": "統計1A 410650377 張哲瑋.ipynb",
      "provenance": [],
      "collapsed_sections": [],
      "authorship_tag": "ABX9TyMXV7Y2h+YBwFuNIHXh/5eM",
      "include_colab_link": true
    },
    "kernelspec": {
      "name": "python3",
      "display_name": "Python 3"
    },
    "language_info": {
      "name": "python"
    }
  },
  "cells": [
    {
      "cell_type": "markdown",
      "metadata": {
        "id": "view-in-github",
        "colab_type": "text"
      },
      "source": [
        "<a href=\"https://colab.research.google.com/github/410650377/introduction-to-Computers/blob/main/%E7%B5%B1%E8%A8%881A_410650377_%E5%BC%B5%E5%93%B2%E7%91%8B.ipynb\" target=\"_parent\"><img src=\"https://colab.research.google.com/assets/colab-badge.svg\" alt=\"Open In Colab\"/></a>"
      ]
    },
    {
      "cell_type": "code",
      "source": [
        "x=10\n",
        "x+=5\n",
        "print(x)\n",
        "#指派運算子"
      ],
      "metadata": {
        "id": "HwptoBLAdcFX",
        "colab": {
          "base_uri": "https://localhost:8080/"
        },
        "outputId": "82a0d91f-7de6-4efe-b6dc-32046f6f2933"
      },
      "execution_count": null,
      "outputs": [
        {
          "output_type": "stream",
          "name": "stdout",
          "text": [
            "15\n"
          ]
        }
      ]
    },
    {
      "cell_type": "code",
      "source": [
        "x=10\n",
        "x-=5\n",
        "print(x)"
      ],
      "metadata": {
        "colab": {
          "base_uri": "https://localhost:8080/"
        },
        "id": "JFZCL-Zih0GF",
        "outputId": "d51f571d-87d8-48dd-b2bc-df502de320d5"
      },
      "execution_count": null,
      "outputs": [
        {
          "output_type": "stream",
          "name": "stdout",
          "text": [
            "5\n"
          ]
        }
      ]
    },
    {
      "cell_type": "code",
      "source": [
        "x=10\n",
        "x*=5\n",
        "print(x)"
      ],
      "metadata": {
        "colab": {
          "base_uri": "https://localhost:8080/"
        },
        "id": "M1s9xBIeiO0M",
        "outputId": "f0524f90-4fc4-448d-f770-9df3ddfb27dc"
      },
      "execution_count": null,
      "outputs": [
        {
          "output_type": "stream",
          "name": "stdout",
          "text": [
            "50\n"
          ]
        }
      ]
    },
    {
      "cell_type": "code",
      "source": [
        "#下列會回傳True\n",
        "x=10>8\n",
        "print(x)\n",
        "#關係運算子"
      ],
      "metadata": {
        "colab": {
          "base_uri": "https://localhost:8080/"
        },
        "id": "eHkWGVv-iYlE",
        "outputId": "988a9b59-6713-452d-ee62-811c294ce036"
      },
      "execution_count": 2,
      "outputs": [
        {
          "output_type": "stream",
          "name": "stdout",
          "text": [
            "True\n"
          ]
        }
      ]
    },
    {
      "cell_type": "code",
      "source": [
        "#下列會回傳True\n",
        "x=10>=10\n",
        "print(x)"
      ],
      "metadata": {
        "id": "y0DTPVzbjNmO",
        "colab": {
          "base_uri": "https://localhost:8080/"
        },
        "outputId": "ec2922fb-7dcf-44fc-dfa4-40da72f3f973"
      },
      "execution_count": 3,
      "outputs": [
        {
          "output_type": "stream",
          "name": "stdout",
          "text": [
            "True\n"
          ]
        }
      ]
    },
    {
      "cell_type": "code",
      "source": [
        "#下列會回傳False\n",
        "y=10>20\n",
        "print(y)"
      ],
      "metadata": {
        "colab": {
          "base_uri": "https://localhost:8080/"
        },
        "id": "mkmTrQMlj7rJ",
        "outputId": "43d58772-911b-4382-8b12-f8e85a3a5e34"
      },
      "execution_count": 8,
      "outputs": [
        {
          "output_type": "stream",
          "name": "stdout",
          "text": [
            "False\n"
          ]
        }
      ]
    },
    {
      "cell_type": "code",
      "source": [
        "#下列會回傳True\n",
        "x=(10>8)and(20>10)\n",
        "print(x)\n",
        "#邏輯運算子"
      ],
      "metadata": {
        "colab": {
          "base_uri": "https://localhost:8080/"
        },
        "id": "JMIk5XoKkuO_",
        "outputId": "8ef21315-45a2-4ee7-b44a-82f2732d97b6"
      },
      "execution_count": 10,
      "outputs": [
        {
          "output_type": "stream",
          "name": "stdout",
          "text": [
            "True\n"
          ]
        }
      ]
    },
    {
      "cell_type": "code",
      "source": [
        "#下列會回傳True\n",
        "x=(10<8)or(10<20)\n",
        "print(x)"
      ],
      "metadata": {
        "colab": {
          "base_uri": "https://localhost:8080/"
        },
        "id": "9GHb6jV-lZos",
        "outputId": "a6ece90a-6f00-466b-bf7a-4a1cf6b1dbef"
      },
      "execution_count": 13,
      "outputs": [
        {
          "output_type": "stream",
          "name": "stdout",
          "text": [
            "True\n"
          ]
        }
      ]
    },
    {
      "cell_type": "code",
      "source": [
        "#下列回傳False\n",
        "x=not(10>8)\n",
        "print(x)"
      ],
      "metadata": {
        "colab": {
          "base_uri": "https://localhost:8080/"
        },
        "id": "y7zC_DQXl-d1",
        "outputId": "a5498b5d-6b5c-4043-fc18-349799e892cf"
      },
      "execution_count": 15,
      "outputs": [
        {
          "output_type": "stream",
          "name": "stdout",
          "text": [
            "False\n"
          ]
        }
      ]
    },
    {
      "cell_type": "code",
      "source": [
        ""
      ],
      "metadata": {
        "id": "L8nMPgItmTuR"
      },
      "execution_count": null,
      "outputs": []
    }
  ]
}