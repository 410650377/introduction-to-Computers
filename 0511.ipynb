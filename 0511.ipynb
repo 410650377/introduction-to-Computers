{
  "nbformat": 4,
  "nbformat_minor": 0,
  "metadata": {
    "colab": {
      "name": "0511.ipynb",
      "provenance": [],
      "authorship_tag": "ABX9TyOrnbKzbw7f9DMLCUX4Z1pB",
      "include_colab_link": true
    },
    "kernelspec": {
      "name": "python3",
      "display_name": "Python 3"
    },
    "language_info": {
      "name": "python"
    }
  },
  "cells": [
    {
      "cell_type": "markdown",
      "metadata": {
        "id": "view-in-github",
        "colab_type": "text"
      },
      "source": [
        "<a href=\"https://colab.research.google.com/github/410650377/introduction-to-Computers/blob/main/0511.ipynb\" target=\"_parent\"><img src=\"https://colab.research.google.com/assets/colab-badge.svg\" alt=\"Open In Colab\"/></a>"
      ]
    },
    {
      "cell_type": "code",
      "execution_count": 1,
      "metadata": {
        "colab": {
          "base_uri": "https://localhost:8080/"
        },
        "id": "BRM4pI4kz_EW",
        "outputId": "210d5d09-c098-48b9-bd40-d3a1e355d154"
      },
      "outputs": [
        {
          "output_type": "stream",
          "name": "stdout",
          "text": [
            "test\n"
          ]
        }
      ],
      "source": [
        "print(\"test\")"
      ]
    },
    {
      "cell_type": "code",
      "source": [
        "temp=float(input(\"請輸入你的體溫\"))\n",
        "if temp>=37.5:\n",
        "  print(\"體溫過高!\")\n",
        "elif temp>=37and temp<37.4:\n",
        "  print(\"體溫略高!\") \n",
        "elif temp>=34and temp<36.9:\n",
        "  print(\"體溫正常!\")\n",
        "else:\n",
        "  print(\"體溫異常，請重新量測!\")     "
      ],
      "metadata": {
        "colab": {
          "base_uri": "https://localhost:8080/"
        },
        "id": "BsdHZZu3-bAM",
        "outputId": "b81c713a-609a-4fb5-b187-afe33d845a15"
      },
      "execution_count": 3,
      "outputs": [
        {
          "output_type": "stream",
          "name": "stdout",
          "text": [
            "請輸入你的體溫37.5\n",
            "體溫過高!\n"
          ]
        }
      ]
    },
    {
      "cell_type": "code",
      "source": [
        "money=int(input(\"請輸入購物金額:\"))\n",
        "if(money>=10000):\n",
        "  if(money>=100000):\n",
        "    print(\"八折\",money*0.8,end=\"元\\n\")\n",
        "  elif(money>=50000):\n",
        "    print(\"八五折\",money*0.85,end=\"元\\n\")\n",
        "  elif(money>=30000):\n",
        "    print(\"九折\",money*0.9,end=\"元\\n\")\n",
        "  else:\n",
        "    print(\"九五折\",money*0.95,end=\"元\\n\")  \n",
        "else:\n",
        "  print(\"沒打折\",money,end=\"元\\n\")    "
      ],
      "metadata": {
        "colab": {
          "base_uri": "https://localhost:8080/"
        },
        "id": "XED82N1vAdQS",
        "outputId": "00593195-17c9-4003-db72-1fea8168bd53"
      },
      "execution_count": 18,
      "outputs": [
        {
          "output_type": "stream",
          "name": "stdout",
          "text": [
            "請輸入購物金額:50000\n",
            "八五折 42500.0元\n"
          ]
        }
      ]
    },
    {
      "cell_type": "code",
      "source": [
        "成績=float(input(\"請輸入成績\"))\n",
        "if (成績>60):\n",
        "  if(成績>=90):\n",
        "    print(\"A\")\n",
        "  elif (成績<90 and 成績>=80):\n",
        "    print(\"B\")\n",
        "  elif (成績>=70 and 成績<80):\n",
        "    print(\"C\")\n",
        "  elif (成績>=60 and 成績<70):\n",
        "    print(\"D\")\n",
        "else:\n",
        "  print(\"E\")"
      ],
      "metadata": {
        "colab": {
          "base_uri": "https://localhost:8080/"
        },
        "id": "QtyoCs9ICVen",
        "outputId": "79100f95-114f-4c24-be7c-015f57784ebf"
      },
      "execution_count": 42,
      "outputs": [
        {
          "output_type": "stream",
          "name": "stdout",
          "text": [
            "請輸入成績50\n",
            "E\n"
          ]
        }
      ]
    },
    {
      "cell_type": "code",
      "source": [
        "month=int(input(\"請輸入月份:\"))\n",
        "if(month==3 or month==4 or month==5):\n",
        "  print(month,\"月是春天!\")\n",
        "elif(month==6 or month==7 or month==8):\n",
        "  print(month,\"月是夏天!\")\n",
        "elif(month==9 or month==10 or month==11):\n",
        "  print(month,\"月是秋天!\")\n",
        "elif(month==12 or month==1 or month==2):\n",
        "  print(month,\"月是冬天!\")\n",
        "else:\n",
        "  print(\"月份不在範圍內\")  "
      ],
      "metadata": {
        "colab": {
          "base_uri": "https://localhost:8080/"
        },
        "id": "n2SG0y0NaP-o",
        "outputId": "b5cef9a4-0d37-4782-9bde-b4161d439edf"
      },
      "execution_count": 1,
      "outputs": [
        {
          "output_type": "stream",
          "name": "stdout",
          "text": [
            "請輸入月份:5\n",
            "5 月是春天!\n"
          ]
        }
      ]
    },
    {
      "cell_type": "code",
      "source": [
        "money=int(input(\"請輸入今年收入淨額:\"))\n",
        "if(money>=300000):\n",
        "  if(money>=2000000):\n",
        "    print(\"付稅金額:\",money*0.3,end=\"元\\n\")\n",
        "  elif(money>=1000000):\n",
        "    print(\"付稅金額:\",money*0.21,end=\"元\\n\")\n",
        "  elif(money>=600000):\n",
        "    print(\"付稅金額:\",money*0.13,end=\"元\\n\")\n",
        "  elif(money>=300000):\n",
        "    print(\"付稅金額:\",money*0.06,end=\"元\\n\")\n",
        "else:\n",
        "  print(\"付稅金額:\",money*0,end=\"元\\n\")    "
      ],
      "metadata": {
        "colab": {
          "base_uri": "https://localhost:8080/"
        },
        "id": "A_RAjkv0cCp5",
        "outputId": "d842841b-86fe-4a20-8801-72751f0afabe"
      },
      "execution_count": 33,
      "outputs": [
        {
          "output_type": "stream",
          "name": "stdout",
          "text": [
            "請輸入今年收入淨額:2000000\n",
            "付稅金額 600000.0元\n"
          ]
        }
      ]
    },
    {
      "cell_type": "code",
      "source": [
        "money=int(input(\"請輸入今年收入淨額:\"))\n",
        "if(money>=300000):\n",
        "  if(money>=2000000):\n",
        "    print(\"付稅金額:\",money*0.3,end=\"元\\n\")\n",
        "  elif(money>=1000000):\n",
        "    print(\"付稅金額:\",money*0.21,end=\"元\\n\")\n",
        "  elif(money>=600000):\n",
        "    print(\"付稅金額:\",money*0.13,end=\"元\\n\")\n",
        "  elif(money>=300000):\n",
        "    print(\"付稅金額:\",money*0.06,end=\"元\\n\")\n",
        "else:\n",
        "  print(\"付稅金額:\",money*0,end=\"元\\n\")  "
      ],
      "metadata": {
        "colab": {
          "base_uri": "https://localhost:8080/"
        },
        "id": "V5cGAWwHeY6j",
        "outputId": "c12f8940-2b9a-427b-b028-192dedca50a7"
      },
      "execution_count": 35,
      "outputs": [
        {
          "output_type": "stream",
          "name": "stdout",
          "text": [
            "請輸入今年收入淨額:100000\n",
            "付稅金額 0元\n"
          ]
        }
      ]
    },
    {
      "cell_type": "code",
      "source": [
        ""
      ],
      "metadata": {
        "id": "eViiDn-fibp1"
      },
      "execution_count": null,
      "outputs": []
    }
  ]
}