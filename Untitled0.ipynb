{
  "nbformat": 4,
  "nbformat_minor": 0,
  "metadata": {
    "colab": {
      "name": "Untitled0.ipynb",
      "provenance": [],
      "authorship_tag": "ABX9TyN+4IbUi09n5jvDKD/QfU36",
      "include_colab_link": true
    },
    "kernelspec": {
      "name": "python3",
      "display_name": "Python 3"
    },
    "language_info": {
      "name": "python"
    }
  },
  "cells": [
    {
      "cell_type": "markdown",
      "metadata": {
        "id": "view-in-github",
        "colab_type": "text"
      },
      "source": [
        "<a href=\"https://colab.research.google.com/github/410650377/introduction-to-Computers/blob/main/Untitled0.ipynb\" target=\"_parent\"><img src=\"https://colab.research.google.com/assets/colab-badge.svg\" alt=\"Open In Colab\"/></a>"
      ]
    },
    {
      "cell_type": "code",
      "execution_count": 4,
      "metadata": {
        "colab": {
          "base_uri": "https://localhost:8080/"
        },
        "id": "gNF2Wv259sVl",
        "outputId": "2cb97d17-298f-47b0-8a8e-02eae01dd5c6"
      },
      "outputs": [
        {
          "output_type": "stream",
          "name": "stdout",
          "text": [
            "輸入消費者身上有的錢150\n",
            "可購買手機\n"
          ]
        }
      ],
      "source": [
        "money=input(\"輸入消費者身上有的錢\")\n",
        "if(int(money)<100):\n",
        " print(\"金額不足\")\n",
        "elif(int(money)>=100):\n",
        " print(\"可購買手機\")\n",
        "elif(int(money)>=200):\n",
        " print(\"可購買平板\")\n",
        "elif(int(money)>=300):\n",
        " print(\"可購買電腦\")\n"
      ]
    },
    {
      "cell_type": "code",
      "source": [
        "\n"
      ],
      "metadata": {
        "id": "w1oig45Q_GhH"
      },
      "execution_count": null,
      "outputs": []
    }
  ]
}