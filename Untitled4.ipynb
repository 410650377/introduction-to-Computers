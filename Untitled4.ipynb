{
  "nbformat": 4,
  "nbformat_minor": 0,
  "metadata": {
    "colab": {
      "name": "Untitled4.ipynb",
      "provenance": [],
      "authorship_tag": "ABX9TyOpIZHpeftsMimpJs+vhMGq",
      "include_colab_link": true
    },
    "kernelspec": {
      "name": "python3",
      "display_name": "Python 3"
    },
    "language_info": {
      "name": "python"
    }
  },
  "cells": [
    {
      "cell_type": "markdown",
      "metadata": {
        "id": "view-in-github",
        "colab_type": "text"
      },
      "source": [
        "<a href=\"https://colab.research.google.com/github/410650377/introduction-to-Computers/blob/main/Untitled4.ipynb\" target=\"_parent\"><img src=\"https://colab.research.google.com/assets/colab-badge.svg\" alt=\"Open In Colab\"/></a>"
      ]
    },
    {
      "cell_type": "code",
      "execution_count": 4,
      "metadata": {
        "colab": {
          "base_uri": "https://localhost:8080/"
        },
        "id": "asWrchsKB4Id",
        "outputId": "5d95447d-5a6b-407c-91d5-b33ff3c0ef49"
      },
      "outputs": [
        {
          "output_type": "stream",
          "name": "stdout",
          "text": [
            "金州勇士現有的球員陣容= ['Curry', 'Green', 'Durant', 'Looney', 'Thompson']\n",
            "勇士今天最高的三個得分 [30, 22, 28] 球員分別為 ['Curry', 'Durant', 'Thompson']\n",
            "勇士今天最低的三個得分 [5, 6] 球員分別為 ['Curry', 'Green', 'Looney']\n",
            "勇士最高得分為 Curry 分數為 30\n",
            "勇士最低得分為 Curry 分數為 5\n"
          ]
        }
      ],
      "source": [
        "player=['Curry','Green','Durant','Looney','Thompson']\n",
        "print(\"金州勇士現有的球員陣容=\",player)\n",
        "Fraction = [30,5,22,6,28]\n",
        "print(\"勇士今天最高的三個得分\",[Fraction[-5],Fraction[-3],Fraction[-1]],\"球員分別為\",[player[-5],player[-3],player[-1]])\n",
        "print(\"勇士今天最低的三個得分\",[Fraction[-4],Fraction[-2]],\"球員分別為\",[player[-5],player[-4],player[-2]])\n",
        "print(\"勇士最高得分為\",player[-5],\"分數為\",max(Fraction))\n",
        "print(\"勇士最低得分為\",player[-5],\"分數為\",min(Fraction))"
      ]
    },
    {
      "cell_type": "code",
      "source": [
        ""
      ],
      "metadata": {
        "id": "nl2g1nQxEc56"
      },
      "execution_count": null,
      "outputs": []
    }
  ]
}