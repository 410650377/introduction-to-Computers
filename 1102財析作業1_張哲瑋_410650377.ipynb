{
  "nbformat": 4,
  "nbformat_minor": 0,
  "metadata": {
    "colab": {
      "provenance": [],
      "authorship_tag": "ABX9TyP91jJs0JoDnxvzRna/MTPz",
      "include_colab_link": true
    },
    "kernelspec": {
      "name": "python3",
      "display_name": "Python 3"
    },
    "language_info": {
      "name": "python"
    }
  },
  "cells": [
    {
      "cell_type": "markdown",
      "metadata": {
        "id": "view-in-github",
        "colab_type": "text"
      },
      "source": [
        "<a href=\"https://colab.research.google.com/github/410650377/introduction-to-Computers/blob/main/1102%E8%B2%A1%E6%9E%90%E4%BD%9C%E6%A5%AD1_%E5%BC%B5%E5%93%B2%E7%91%8B_410650377.ipynb\" target=\"_parent\"><img src=\"https://colab.research.google.com/assets/colab-badge.svg\" alt=\"Open In Colab\"/></a>"
      ]
    },
    {
      "cell_type": "code",
      "execution_count": 1,
      "metadata": {
        "id": "I3gJLCjnfAPK"
      },
      "outputs": [],
      "source": [
        "import pandas as pd\n",
        "import pandas_datareader.data as wb\n",
        "import datetime\n",
        "start=datetime.datetime(2018,1,3)\n",
        "end =datetime.datetime(2022,2,15)"
      ]
    },
    {
      "cell_type": "code",
      "source": [
        "sqcl= wb.DataReader(\"NVDA\", \"stooq\",    start, end)['Close']\n",
        "sqcl"
      ],
      "metadata": {
        "colab": {
          "base_uri": "https://localhost:8080/"
        },
        "id": "sqNr4AvLfc4G",
        "outputId": "7d512838-5cbc-434f-fd9d-4c307a1f0990"
      },
      "execution_count": 4,
      "outputs": [
        {
          "output_type": "execute_result",
          "data": {
            "text/plain": [
              "Date\n",
              "2022-02-15    264.6970\n",
              "2022-02-14    242.4450\n",
              "2022-02-11    239.2670\n",
              "2022-02-10    258.0020\n",
              "2022-02-09    266.7970\n",
              "                ...   \n",
              "2018-01-09     54.9210\n",
              "2018-01-08     54.9370\n",
              "2018-01-05     53.3123\n",
              "2018-01-04     52.8616\n",
              "2018-01-03     52.5818\n",
              "Name: Close, Length: 1038, dtype: float64"
            ]
          },
          "metadata": {},
          "execution_count": 4
        }
      ]
    },
    {
      "cell_type": "code",
      "source": [],
      "metadata": {
        "id": "br4V4oP8gJ5k"
      },
      "execution_count": null,
      "outputs": []
    }
  ]
}